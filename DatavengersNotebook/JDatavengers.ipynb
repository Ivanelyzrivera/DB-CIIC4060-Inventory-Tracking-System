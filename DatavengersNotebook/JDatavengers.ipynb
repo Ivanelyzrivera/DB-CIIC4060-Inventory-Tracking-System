{
 "cells": [
  {
   "cell_type": "code",
<<<<<<< HEAD
   "execution_count": 1100,
=======
   "execution_count": 11,
>>>>>>> 70cdaaadc720db4e6df6c6f2eee6ae1d25a01cd7
   "metadata": {},
   "outputs": [],
   "source": [
    "import ipywidgets as widgets\n",
    "from IPython.display import display, clear_output\n",
    "import requests\n",
    "import pandas as pd\n",
    "import matplotlib.pyplot as plt\n",
    "from IPython.display import HTML"
   ]
  },
  {
   "cell_type": "code",
<<<<<<< HEAD
   "execution_count": 1101,
=======
   "execution_count": 12,
>>>>>>> 70cdaaadc720db4e6df6c6f2eee6ae1d25a01cd7
   "metadata": {},
   "outputs": [],
   "source": [
    "warehouse_input = widgets.IntText(\n",
    "    value=1,\n",
    "    description='Warehouse Number:',\n",
    "    disabled=False,\n",
    "    style={'description_width': 'initial'},\n",
    "    layout=widgets.Layout(width='175px', margin='0px 5px 0px 0px')\n",
    ")\n",
    "\n",
    "user_id_input = widgets.IntText(\n",
    "    value=1,\n",
    "    description='User ID:',\n",
    "    disabled=False,\n",
    "    style={'description_width': 'initial'},\n",
    "    layout=widgets.Layout(width='100px')\n",
    ")\n",
    "\n",
    "supplier_id_input = widgets.IntText(\n",
    "    value=1,\n",
    "    description='Supplier ID:',\n",
    "    disabled=False,\n",
    "    style={'description_width': 'initial'},\n",
    "    layout=widgets.Layout(width='120px')\n",
    ")"
   ]
  },
  {
   "cell_type": "code",
<<<<<<< HEAD
   "execution_count": 1102,
=======
   "execution_count": 13,
>>>>>>> 70cdaaadc720db4e6df6c6f2eee6ae1d25a01cd7
   "metadata": {},
   "outputs": [],
   "source": [
    "url = \"https://datavenge-35c4e96eb954.herokuapp.com/datavengers/\"\n",
    "\n",
    "\n",
    "def listWarehouses():\n",
    "    response = requests.get(url+\"warehouses\")\n",
    "    warehouse_data = response.json()\n",
    "    wList = []\n",
    "    for w in warehouse_data:\n",
    "        wList.append(w[\"W_ID\"])\n",
    "    return wList\n",
    "\n",
    "def listUsers():\n",
    "    response = requests.get(url+\"users\")\n",
    "    user_data = response.json()\n",
    "    uList = []\n",
    "    for u in user_data:\n",
    "        uList.append(u[\"U_ID\"])\n",
    "    return uList\n",
    "\n",
    "def listSuppliers():\n",
    "    response = requests.get(url+\"suppliers\")\n",
    "    supplier_data = response.json()\n",
    "    sList = []\n",
    "    for s in supplier_data:\n",
    "        sList.append(s[\"S_ID\"])\n",
    "    return sList\n",
    "\n",
    "def validUser():\n",
    "    userID = user_id_input.value\n",
    "    warehouseID = warehouse_input.value\n",
    "    response = requests.get(url+\"users\")\n",
    "    user_data = response.json()\n",
    "    uList = []\n",
    "    for u in user_data:\n",
    "        result = (\n",
    "            u[\"U_ID\"],\n",
    "            u[\"W_ID\"]\n",
    "        )\n",
    "        uList.append(result)\n",
    "    if warehouseID not in listWarehouses():\n",
    "        print(\"Warehouse not found in database...\\n\")\n",
    "        return False\n",
    "    elif userID not in listUsers():\n",
    "        print(\"\\nUser not found in database...\\n\")\n",
    "        return False\n",
    "    else:\n",
    "        for user in uList:\n",
    "            if userID == user[0] and warehouseID != user[1]:\n",
    "                print(\"\\nThis user does not belong in that warehouse...\\n\")\n",
    "                return False\n",
    "            if userID == user[0] and warehouseID == user[1]:\n",
    "                return True\n",
    "    \n",
    "def validSupplier():\n",
    "    supplierID = supplier_id_input.value\n",
    "    if supplierID not in listSuppliers():\n",
    "        print(\"\\nSupplier not found in Database\\n\")\n",
    "        return False\n",
    "    else:\n",
    "        return True"
   ]
  },
  {
   "cell_type": "code",
<<<<<<< HEAD
   "execution_count": 1103,
=======
   "execution_count": 14,
>>>>>>> 70cdaaadc720db4e6df6c6f2eee6ae1d25a01cd7
   "metadata": {},
   "outputs": [],
   "source": [
    "#Local Statistics Data Tables\n",
    "\n",
    "url = \"https://datavenge-35c4e96eb954.herokuapp.com/datavengers/\"\n",
    "\n",
    "def show_profit():\n",
    "    print(\"Showing profit...\")\n",
    "    if validUser() == False:\n",
    "        print(\"Please choose another user or warehouse\")\n",
    "    else:\n",
    "        user_id = user_id_input.value\n",
    "        warehouse_number = warehouse_input.value\n",
    "        userVal = {\"user_id\" : user_id}\n",
    "        response = requests.post(url+ f\"warehouse/{warehouse_number}/profit\", json = userVal)\n",
    "        racks_data = response.json()\n",
    "        df = pd.DataFrame(racks_data)\n",
    "        display(df)\n",
    "\n",
    "def show_top_expensive_racks():\n",
    "    print(\"Showing top 5 expensive racks...\")\n",
    "    if validUser() == False:\n",
    "        print(\"Please choose another user or warehouse\")\n",
    "    else:\n",
    "        user_id = user_id_input.value\n",
    "        warehouse_number = warehouse_input.value\n",
    "        userVal = {\"user_id\" : user_id}\n",
    "        response = requests.post(url+ f\"warehouse/{warehouse_number}/rack/expensive\", json = userVal)\n",
    "        racks_data = response.json()\n",
    "        df = pd.DataFrame(racks_data)\n",
    "        display(df)\n",
    "\n",
    "def show_bottom_parts_type():\n",
    "    print(\"Showing bottom 3 parts type/material...\")\n",
    "    if validUser() == False:\n",
    "        print(\"Please choose another user or warehouse\")\n",
    "    else:\n",
    "        user_id = user_id_input.value\n",
    "        warehouse_number = warehouse_input.value\n",
    "        userVal = {\"user_id\" : user_id}\n",
    "        response = requests.post(url+f\"warehouse/{warehouse_number}/rack/material\", json = userVal)\n",
    "        warehouses = response.json()\n",
    "        df = pd.DataFrame(warehouses)\n",
    "        display(df)\n",
    "\n",
    "def show_racks_under_capacity():\n",
    "    print(\"Showing top 5 racks under 25% capacity...\")\n",
    "    if validUser() == False:\n",
    "        print(\"Please choose another user or warehouse\")\n",
    "    else:\n",
    "        user_id = user_id_input.value\n",
    "        warehouse_number = warehouse_input.value\n",
    "        userVal = {\"user_id\" : user_id}\n",
    "        response = requests.post(url+f\"warehouse/{warehouse_number}/rack/lowstock\", json = userVal)\n",
    "        warehouses = response.json()\n",
    "        df = pd.DataFrame(warehouses)\n",
    "        display(df)\n",
    "\n",
    "def show_top_suppliers_warehouse():\n",
    "    print(\"Showing top 3 suppliers that supplied to the warehouse...\")\n",
    "    if validUser() == False:\n",
    "        print(\"Please choose another user or warehouse\")\n",
    "    else:\n",
    "        user_id = user_id_input.value\n",
    "        warehouse_number = warehouse_input.value\n",
    "        userVal = {\"user_id\" : user_id}\n",
    "        response = requests.post(url+f\"warehouse/{warehouse_number}/transaction/suppliers\", json = userVal)\n",
    "        warehouses = response.json()\n",
    "        df = pd.DataFrame(warehouses)\n",
    "        display(df)\n",
    "\n",
    "def show_top_users_exchanges():\n",
    "    print(\"Showing top 3 users that receives the most exchanges...\")\n",
    "    if validUser() == False:\n",
    "        print(\"Please choose another user or warehouse\")\n",
    "    else:\n",
    "        user_id = user_id_input.value\n",
    "        warehouse_number = warehouse_input.value\n",
    "        userVal = {\"user_id\" : user_id}\n",
    "        response = requests.post(url+f\"warehouse/{warehouse_number}/users/receivesmost\", json = userVal)\n",
    "        warehouses = response.json()\n",
    "        df = pd.DataFrame(warehouses)\n",
    "        display(df)\n",
    "\n",
    "def show_top_days_smallest_incoming():\n",
    "    print(\"Showing top 3 days with the smallest incoming transactions' cost...\")\n",
    "    if validUser() == False:\n",
    "        print(\"Please choose another user or warehouse\")\n",
    "    else:\n",
    "        user_id = user_id_input.value\n",
    "        warehouse_number = warehouse_input.value\n",
    "        userVal = {\"user_id\" : user_id}\n",
    "        response = requests.post(url+f\"warehouse/{warehouse_number}/transaction/leastcost\", json = userVal)\n",
    "        warehouses = response.json()\n",
    "        df = pd.DataFrame(warehouses)\n",
    "        display(df)"
   ]
  },
  {
   "cell_type": "code",
<<<<<<< HEAD
   "execution_count": 1104,
=======
   "execution_count": 15,
>>>>>>> 70cdaaadc720db4e6df6c6f2eee6ae1d25a01cd7
   "metadata": {},
   "outputs": [],
   "source": [
    "# Global Statistics Data Tables\n",
    "\n",
    "url = \"https://datavenge-35c4e96eb954.herokuapp.com/datavengers/\"\n",
    "\n",
    "def show_top_warehouses_racks():\n",
    "    print(\"Showing top 10 warehouses with the most racks...\")\n",
    "    gstat = \"most/rack\"\n",
    "    response = requests.get(url+gstat)\n",
    "    res = response.json()\n",
    "    df = pd.DataFrame(res)\n",
    "    display(df)\n",
    "\n",
    "def show_top_warehouses_incoming_transactions():\n",
    "    print(\"Showing top 5 warehouse that has the most incoming transactions...\")\n",
    "    gstat = \"most/incoming\"\n",
    "    response = requests.get(url+gstat)\n",
    "    res = response.json()\n",
    "    df = pd.DataFrame(res)\n",
    "    display(df)\n",
    "    \n",
    "    warehouse_ID = []\n",
    "    count = []\n",
    "    for warehouse in res:\n",
    "        warehouse_ID.append(str(warehouse[\"W_ID\"]))\n",
    "        count.append(warehouse[\"incoming_count\"])\n",
    "    plt.bar(warehouse_ID, count, color='#A17B17')\n",
    "    plt.xlabel('Warehouses')\n",
    "    plt.ylabel('Incoming Transactions')\n",
    "    plt.title('Top 5 Warehouses with most incoming transactions')\n",
    "    plt.show()\n",
    "\n",
    "def show_top_warehouses_delivers_exchanges():\n",
    "    print(\"Showing top 5 warehouse that delivers the most exchanges...\")\n",
    "    gstat = \"most/deliver\"\n",
    "    response = requests.get(url+gstat)\n",
    "    res = response.json()\n",
    "    df = pd.DataFrame(res)\n",
    "    display(df)\n",
    "        \n",
    "def show_top_users_transactions():\n",
    "    print(\"Showing top 3 users that made the most transactions...\")\n",
    "    gstat = \"most/transactions\"\n",
    "    response = requests.get(url+gstat)\n",
    "    res = response.json()\n",
    "    df = pd.DataFrame(res)\n",
    "    display(df)\n",
    "    \n",
    "    user_ID = []\n",
    "    count = []\n",
    "    for user in res:\n",
    "        user_ID.append(str(user[\"user_ID\"]))\n",
    "        count.append(user[\"Transaction_Count\"])\n",
    "    plt.bar(user_ID, count, color='#A17B17')\n",
    "    plt.xlabel('Users')\n",
    "    plt.ylabel('Transactions')\n",
    "    plt.title('Top 3 users with most transactions')\n",
    "    plt.show()\n",
    "\n",
    "def show_top_warehouses_least_outgoing_transactions():\n",
    "    print(\"Showing top 3 warehouses with the least outgoing transactions...\")\n",
    "    gstat = \"least/outgoing\"\n",
    "    response = requests.get(url+gstat)\n",
    "    res = response.json()\n",
    "    df = pd.DataFrame(res)\n",
    "    display(df)\n",
    "    \n",
    "    warehouse_ID = []\n",
    "    count = []\n",
    "    for warehouse in res:\n",
    "        warehouse_ID.append(str(warehouse[\"W_ID\"]))\n",
    "        count.append(warehouse[\"Outgoing_Transaction_Count\"])\n",
    "    plt.bar(warehouse_ID, count, color='#A17B17')\n",
    "    plt.xlabel('Warehouses')\n",
    "    plt.ylabel('Outgoing Transactions')\n",
    "    plt.title('Top 3 cities with most transactions')\n",
    "    plt.show()\n",
    "    \n",
    "def show_top_warehouses_cities():\n",
    "    print(\"Showing top 3 warehouses cities with the most transactions...\")\n",
    "    gstat = \"most/city\"\n",
    "    response = requests.get(url+gstat)\n",
    "    res = response.json()\n",
    "    df = pd.DataFrame(res)\n",
    "    display(df)\n",
    "    \n",
    "    warehouse_ID = []\n",
    "    count = []\n",
    "    for warehouse in res:\n",
    "        warehouse_ID.append(str(warehouse[\"W_City\"]))\n",
    "        count.append(warehouse[\"W_TransactionCount\"])\n",
    "    plt.bar(warehouse_ID, count, color='#A17B17')\n",
    "    plt.xlabel('Cities')\n",
    "    plt.ylabel('Transactions')\n",
    "    plt.title('Top 3 cities with most transactions')\n",
    "    plt.show()"
   ]
  },
  {
   "cell_type": "code",
<<<<<<< HEAD
   "execution_count": 1105,
=======
   "execution_count": 16,
>>>>>>> 70cdaaadc720db4e6df6c6f2eee6ae1d25a01cd7
   "metadata": {},
   "outputs": [],
   "source": [
    "#Transactions Data Tables\n",
    "  \n",
    "def show_latest_to_oldest():\n",
    "    print(\"Showing latest to oldest transactions...\")\n",
    "    warehouse_number=warehouse_input.value\n",
    "    gstat = f\"transactions/warehouse/{warehouse_number}\"\n",
    "    response = requests.get(url+gstat)\n",
    "    res = response.json()\n",
    "    df = pd.DataFrame(res)\n",
    "    display(df)"
   ]
  },
  {
   "cell_type": "code",
<<<<<<< HEAD
   "execution_count": 1106,
=======
   "execution_count": 17,
>>>>>>> 70cdaaadc720db4e6df6c6f2eee6ae1d25a01cd7
   "metadata": {},
   "outputs": [],
   "source": [
    "#Prices Data Tables\n",
    "\n",
    "url = \"https://datavenge-35c4e96eb954.herokuapp.com/datavengers/\"\n",
    "\n",
    "def show_part_prices():\n",
    "    print(\"Showing part prices...\")\n",
    "    gstat = \"parts/price/all\"\n",
    "    response = requests.get(url+gstat)\n",
    "    parts_data = response.json()\n",
    "    part_ID = []\n",
    "    part_Prices = []\n",
    "    for part in parts_data:\n",
    "        part_ID.append(part[\"P_Name\"])\n",
    "        part_Prices.append(part[\"P_Price\"])\n",
    "    plt.figure(figsize=(10, 5))\n",
    "    plt.bar(part_ID, part_Prices, color='skyblue')\n",
    "    plt.xlabel('Part ID')\n",
    "    plt.ylabel('Price')\n",
    "    plt.title('Price of Parts by Part Name')\n",
    "    plt.xticks(rotation=90) \n",
    "    plt.show()\n",
    "\n",
    "def show_parts_supplied_by_suppliers():\n",
    "    print(\"Showing parts supplied by suppliers...\")\n",
    "    if validSupplier() == False:\n",
    "        print(\"Please choose another supplier...\")\n",
    "    else:\n",
    "        supplier_id = supplier_id_input.value\n",
    "        gstat = f\"parts/supplier/{supplier_id}\"\n",
    "        response = requests.get(url+gstat)\n",
    "        res = response.json()\n",
    "        df = pd.DataFrame(res)\n",
    "        display(df)\n",
    "\n",
    "def show_parts_in_warehouse():\n",
    "    print(\"Showing parts in warehouse...\")\n",
    "    warehouse_number = warehouse_input.value\n",
    "    gstat = f\"parts/warehouse/{warehouse_number}\"\n",
    "    response = requests.get(url+gstat)\n",
    "    res = response.json()\n",
    "    df = pd.DataFrame(res)\n",
    "    display(df)"
   ]
  },
  {
   "cell_type": "code",
<<<<<<< HEAD
   "execution_count": 1107,
=======
   "execution_count": 18,
>>>>>>> 70cdaaadc720db4e6df6c6f2eee6ae1d25a01cd7
   "metadata": {},
   "outputs": [],
   "source": [
    "# Dropdown Menus\n",
    "\n",
    "local_stats_dropdown = widgets.Dropdown(\n",
    "    options=['Choose', 'Profit', 'Top 5 Expensive Racks', 'Bottom 3 Parts Type/Material', 'Top 5 Racks Under 25% Capacity', 'Top 3 Suppliers Per Warehouse', 'Top 3 Users With Exchanges', 'Top 3 Days Smallest Incoming'],\n",
    "    description='Local Stats:',\n",
    ")\n",
    "\n",
    "global_stats_dropdown = widgets.Dropdown(\n",
    "    options=['Choose', 'Top 10 Warehouses With Most Racks', 'Top 5 Warehouses With Most Incoming Transactions', 'Top 5 Warehouses That Delivers The Most Exchanges','Top 3 Users That Made The Most Transactions','Top 3 Warehouses With The Least Outgoing Transactions', 'Top 3 Warehouses Cities With The Most Transactions'],\n",
    "    description='Global Stats:',\n",
    ")\n",
    "\n",
    "transactions_dropdown = widgets.Dropdown(\n",
    "    options=['Choose', 'Latest to Oldest'],\n",
    "    description='Transactions:',\n",
    ")\n",
    "\n",
    "parts_dropdown = widgets.Dropdown(\n",
    "    options=['Choose', 'Part Prices', 'Parts Supplied by Suppliers', 'Parts In Warehouse'],\n",
    "    description='Parts:',\n",
    ")"
   ]
  },
  {
   "cell_type": "code",
<<<<<<< HEAD
   "execution_count": 1108,
=======
   "execution_count": 19,
>>>>>>> 70cdaaadc720db4e6df6c6f2eee6ae1d25a01cd7
   "metadata": {},
   "outputs": [],
   "source": [
    "# Create an output widget to display results\n",
    "\n",
    "output = widgets.Output()\n",
    "\n",
    "def on_local_stats_change(change):\n",
    "    with output:\n",
    "        clear_output(wait=True)\n",
    "        if change['type'] == 'change' and change['name'] == 'value':\n",
    "            if change['new'] == 'Profit':\n",
    "                show_profit()\n",
    "            elif change['new'] == 'Top 5 Expensive Racks':\n",
    "                show_top_expensive_racks()\n",
    "            elif change['new'] == 'Bottom 3 Parts Type/Material':\n",
    "                show_bottom_parts_type()\n",
    "            elif change['new'] == 'Top 5 Racks Under 25% Capacity':\n",
    "                show_racks_under_capacity()\n",
    "            elif change['new'] == 'Top 3 Suppliers Per Warehouse':\n",
    "                show_top_suppliers_warehouse()\n",
    "            elif change['new'] == 'Top 3 Users With Exchanges':\n",
    "                show_top_users_exchanges()\n",
    "            elif change['new'] == 'Top 3 Days Smallest Incoming':\n",
    "                show_top_days_smallest_incoming()\n",
    "\n",
    "\n",
    "def on_global_stats_change(change):\n",
    "    with output:\n",
    "        clear_output(wait=True)\n",
    "        if change['type'] == 'change' and change['name'] == 'value':\n",
    "            if change['new'] == 'Top 10 Warehouses With Most Racks':\n",
    "                show_top_warehouses_racks()\n",
    "            elif change['new'] == 'Top 5 Warehouses With Most Incoming Transactions':\n",
    "                show_top_warehouses_incoming_transactions()\n",
    "            elif change['new'] == 'Top 5 Warehouses That Delivers The Most Exchanges':\n",
    "                show_top_warehouses_delivers_exchanges()\n",
    "            elif change['new'] == 'Top 3 Users That Made The Most Transactions':\n",
    "                show_top_users_transactions()\n",
    "            elif change['new'] == 'Top 3 Warehouses With The Least Outgoing Transactions':\n",
    "                show_top_warehouses_least_outgoing_transactions()\n",
    "            elif change['new'] == 'Top 3 Warehouses Cities With The Most Transactions':\n",
    "                show_top_warehouses_cities()\n",
    "\n",
    "def on_transactions_change(change):\n",
    "    with output:\n",
    "        clear_output(wait=True)\n",
    "        if change['type'] == 'change' and change['name'] == 'value':\n",
    "            if change['new'] == 'Latest to Oldest':\n",
    "                show_latest_to_oldest()\n",
    "\n",
    "def on_parts_dropdown_change(change):\n",
    "    with output:\n",
    "        clear_output(wait=True)\n",
    "        if change['type'] == 'change' and change['name'] == 'value':\n",
    "            if change['new'] == 'Part Prices':\n",
    "                show_part_prices()\n",
    "            elif change['new'] == 'Parts Supplied by Suppliers':\n",
    "                show_parts_supplied_by_suppliers()\n",
    "            elif change['new'] == 'Parts In Warehouse':\n",
    "                show_parts_in_warehouse()\n",
    "                \n",
    "def show_no_output():\n",
    "    with output:\n",
    "        clear_output(wait=False)"
   ]
  },
  {
   "cell_type": "code",
<<<<<<< HEAD
   "execution_count": 1109,
=======
   "execution_count": 20,
>>>>>>> 70cdaaadc720db4e6df6c6f2eee6ae1d25a01cd7
   "metadata": {},
   "outputs": [
    {
     "data": {
      "application/vnd.jupyter.widget-view+json": {
<<<<<<< HEAD
       "model_id": "5dbcaba931ce4f7f96f48495d0bedee8",
=======
       "model_id": "39c6253e7df846829846229e5de98e22",
>>>>>>> 70cdaaadc720db4e6df6c6f2eee6ae1d25a01cd7
       "version_major": 2,
       "version_minor": 0
      },
      "text/plain": [
       "HTML(value=\"<h2 style='text-align: center;'>Datavengers - Phase 3</h2>\")"
      ]
     },
     "metadata": {},
     "output_type": "display_data"
    },
    {
     "data": {
      "application/vnd.jupyter.widget-view+json": {
<<<<<<< HEAD
       "model_id": "b1d87e34faf94a6ba96bcd28a3303460",
=======
       "model_id": "e1e97f08655c45f8aca32793f5052594",
>>>>>>> 70cdaaadc720db4e6df6c6f2eee6ae1d25a01cd7
       "version_major": 2,
       "version_minor": 0
      },
      "text/plain": [
       "Button(description='Reset', layout=Layout(justify_content='flex-end'), style=ButtonStyle(button_color='#A2B0B1…"
      ]
     },
     "metadata": {},
     "output_type": "display_data"
    },
    {
     "data": {
      "application/vnd.jupyter.widget-view+json": {
<<<<<<< HEAD
       "model_id": "a5dc7e44c23c4ea982501aa392cc92b7",
=======
       "model_id": "89c99be0ad4b4416b58a48a8fdb99c50",
>>>>>>> 70cdaaadc720db4e6df6c6f2eee6ae1d25a01cd7
       "version_major": 2,
       "version_minor": 0
      },
      "text/plain": [
       "HBox(children=(Dropdown(description='Local Stats:', options=('Choose', 'Profit', 'Top 5 Expensive Racks', 'Bot…"
      ]
     },
     "metadata": {},
     "output_type": "display_data"
    },
    {
     "data": {
      "application/vnd.jupyter.widget-view+json": {
<<<<<<< HEAD
       "model_id": "917fc520758a4c698bb052a649f141d9",
=======
       "model_id": "d1dc20ec546340b2a5ed3b064646bdcb",
>>>>>>> 70cdaaadc720db4e6df6c6f2eee6ae1d25a01cd7
       "version_major": 2,
       "version_minor": 0
      },
      "text/plain": [
       "HBox(children=(IntText(value=1, description='Warehouse Number:', layout=Layout(margin='0px 5px 0px 0px', width…"
      ]
     },
     "metadata": {},
     "output_type": "display_data"
    },
    {
     "data": {
      "application/vnd.jupyter.widget-view+json": {
<<<<<<< HEAD
       "model_id": "7f79325f64c2405a85dff7eb1fb9b008",
=======
       "model_id": "0c8cc6e3a1d14021a02a1ca18320510d",
>>>>>>> 70cdaaadc720db4e6df6c6f2eee6ae1d25a01cd7
       "version_major": 2,
       "version_minor": 0
      },
      "text/plain": [
       "Output()"
      ]
     },
     "metadata": {},
     "output_type": "display_data"
    }
   ],
   "source": [
    "# Register the event handlers\n",
    "\n",
    "local_stats_dropdown.observe(on_local_stats_change, names='value')\n",
    "global_stats_dropdown.observe(on_global_stats_change, names='value')\n",
    "transactions_dropdown.observe(on_transactions_change, names='value')\n",
    "parts_dropdown.observe(on_parts_dropdown_change, names='value')\n",
    "\n",
    "\n",
    "# Layout the widgets\n",
    "\n",
    "title_widget = widgets.HTML(\n",
    "    value=\"<h2 style='text-align: center;'>Datavengers - Phase 3</h2>\"\n",
    ")\n",
    "reset = widgets.Button(description = 'Reset',layout=widgets.Layout(justify_content = 'flex-end'))\n",
    "reset.style.button_color = '#A2B0B1'\n",
    "dropdowns_vbox = widgets.HBox([local_stats_dropdown, global_stats_dropdown, transactions_dropdown, parts_dropdown],layout=widgets.Layout(justify_content='center', width='100%'))\n",
    "input_box = widgets.HBox([warehouse_input, user_id_input, supplier_id_input],layout=widgets.Layout(justify_content='center', width='100%'))\n",
    "\n",
    "\n",
    "display(title_widget, reset, dropdowns_vbox, input_box, output)\n",
    "\n",
    "# Setting up reset button functionality\n",
    "def resetClicked(b):\n",
    "    clear_output(wait=False)\n",
    "    show_no_output()\n",
    "    display(title_widget, reset, dropdowns_vbox, input_box, output)\n",
    "    \n",
    "reset.on_click(resetClicked)"
   ]
  }
 ],
 "metadata": {
  "kernelspec": {
   "display_name": ".venv",
   "language": "python",
   "name": "python3"
  },
  "language_info": {
   "codemirror_mode": {
    "name": "ipython",
    "version": 3
   },
   "file_extension": ".py",
   "mimetype": "text/x-python",
   "name": "python",
   "nbconvert_exporter": "python",
   "pygments_lexer": "ipython3",
   "version": "3.12.0"
  }
 },
 "nbformat": 4,
 "nbformat_minor": 2
}
